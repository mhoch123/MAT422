{
  "nbformat": 4,
  "nbformat_minor": 0,
  "metadata": {
    "colab": {
      "provenance": [],
      "include_colab_link": true
    },
    "kernelspec": {
      "name": "python3",
      "display_name": "Python 3"
    },
    "language_info": {
      "name": "python"
    }
  },
  "cells": [
    {
      "cell_type": "markdown",
      "metadata": {
        "id": "view-in-github",
        "colab_type": "text"
      },
      "source": [
        "<a href=\"https://colab.research.google.com/github/mhoch123/MAT422/blob/main/HW_1_4.ipynb\" target=\"_parent\"><img src=\"https://colab.research.google.com/assets/colab-badge.svg\" alt=\"Open In Colab\"/></a>"
      ]
    },
    {
      "cell_type": "markdown",
      "source": [
        "## Homework 1.4\n",
        "Authors: Megan Hoch and Bronwyn Curnow"
      ],
      "metadata": {
        "id": "3gVkCbyRuq5Q"
      }
    },
    {
      "cell_type": "markdown",
      "source": [
        "#1.4.1 Singular Value Decomposition"
      ],
      "metadata": {
        "id": "2ycWeiXby395"
      }
    },
    {
      "cell_type": "markdown",
      "source": [
        " Let $A$ be an $mxn$ matrix with the dimension of $col(A)=r$. Then there exisits an $mxn$ matrix $\\sum$, where the diagonal entries in D are the first $r$ signular values of $A \\sigma_{1}\\geq \\sigma_{2} \\geq \\ldots \\geq \\sigma_{r} \\geq 0$, and there exists an $mxm$ orthogonal matrix U and $nxn$ orthogonal matrix V such that: $A=U\\sum V^T$\n",
        "\n",
        " **The Singular Value Decomposition:**Any factorization of the above equation with $U$ and $V$ orthogonal is called a singular value decomposition(SVD) of $A$"
      ],
      "metadata": {
        "id": "Ohsu4yxuy8yw"
      }
    },
    {
      "cell_type": "code",
      "source": [
        "import numpy as np\n",
        "import random\n",
        "from sklearn.decomposition import PCA\n",
        "\n",
        "\n",
        "X = np.random.randint(10, size = (5,5))\n",
        "u, E, v = np.linalg.svd(X)\n",
        "print('u:', u, '\\n')\n",
        "print('E:',E, '\\n')\n",
        "print('v:',v, '\\n')"
      ],
      "metadata": {
        "colab": {
          "base_uri": "https://localhost:8080/"
        },
        "id": "Y_rGvt9QJVXp",
        "outputId": "34f5db17-2958-4372-df68-e9e4da0ceca3"
      },
      "execution_count": null,
      "outputs": [
        {
          "output_type": "stream",
          "name": "stdout",
          "text": [
            "u: [[-0.46673502 -0.39235356  0.58261121 -0.52670613 -0.10659235]\n",
            " [-0.40922255 -0.1420421  -0.66532203 -0.36579495  0.48569701]\n",
            " [-0.57023138 -0.36289643 -0.10003881  0.70410109 -0.19332939]\n",
            " [-0.44880688  0.68360197 -0.15559426 -0.17739311 -0.52495985]\n",
            " [-0.296823    0.47631634  0.42859471  0.24808878  0.66315713]] \n",
            "\n",
            "E: [21.3429713  10.16329162  5.79338315  4.39941951  3.04415821] \n",
            "\n",
            "v: [[-0.48317486 -0.5164273  -0.4571205  -0.29333233 -0.45259462]\n",
            " [-0.50634923  0.33988046 -0.51121459  0.11490787  0.59459865]\n",
            " [-0.58389939  0.33110362  0.60164943 -0.4240677  -0.08727227]\n",
            " [ 0.33916463 -0.1382099  -0.10741003 -0.81646172  0.43326519]\n",
            " [ 0.23276891  0.69932291 -0.3951981  -0.23304328 -0.49626141]] \n",
            "\n"
          ]
        }
      ]
    },
    {
      "cell_type": "markdown",
      "source": [
        "As we can see, numpy gives us the S, $\\sum$ and $V^T$ matrices that form the *Singular Value Decomposition* of our matrix X."
      ],
      "metadata": {
        "id": "MtOhK66oJbHM"
      }
    },
    {
      "cell_type": "markdown",
      "source": [
        "#1.4.2 Low-Rank Matrix Approximations"
      ],
      "metadata": {
        "id": "w7OYj29RuxlV"
      }
    },
    {
      "cell_type": "markdown",
      "source": [
        "**Induced Norm:** The 2-norm of a matrix $A \\in \\mathbb{R}^{nxm}$ is $\\parallel A\\parallel_{2} = max_{x\\neq0,\\parallel x \\parallel =1} x^{T}A^{T}Ax$\n",
        "\n",
        "For a matrix with SVD where $k<r$, $A_k = \\sum_{j=1}^{k} \\sigma_{j}u_{j}v_{j}^T$ and the rank of $A_k$ is exactly $k$."
      ],
      "metadata": {
        "id": "HX6lbjUzymVv"
      }
    },
    {
      "cell_type": "markdown",
      "source": [
        "#1.4.3 Principle Component Analysis"
      ],
      "metadata": {
        "id": "KJIX6ELI1Ssl"
      }
    },
    {
      "cell_type": "markdown",
      "source": [
        "**Covariance Matrix:** The covariance matrix is the $pxp$ matrix $S$ defined by $S=\\frac{1}{N-1}B^T$ and since the form $BB^T$ is positive semidefinite, so is $S$\n",
        "\n",
        "**Principle Component Analysis:** The goal of this analysis (PCA) is to find $k,(k\\leq p)$ orthonormal vectors $v_1,\\ldots,v_k$, that maximize the objective function $\\frac{1}{N} \\sum_{i=1}^{N}\\sum_{j=1}^{k}\\langle X_i \\cdot v_j\\rangle ^{2}$\n",
        "\n",
        "**Total Variance:** Total Variance = $tr(S)$,\n",
        "$tr(S)= \\frac{1}{N-1}\\sum_{1}^{p} \\lambda_{j}$"
      ],
      "metadata": {
        "id": "HcMOlyRC1X4l"
      }
    },
    {
      "cell_type": "code",
      "source": [
        "Y = np.random.randint(10,size = (5,5))\n",
        "print('Y:',Y,'\\n')\n",
        "\n",
        "pca = PCA(n_components=5, svd_solver='full')\n",
        "pca.fit(Y)\n",
        "print('Singular Values:', pca.singular_values_)\n",
        "print('Explained Variances',pca.explained_variance_ratio_)\n",
        "cov = pca.get_covariance()\n",
        "print('\\nCovariance Matrix:', cov)\n"
      ],
      "metadata": {
        "colab": {
          "base_uri": "https://localhost:8080/"
        },
        "id": "8Bofyxmg9fyG",
        "outputId": "38d7165c-dc3e-4fbd-cd0e-38a49361b5e0"
      },
      "execution_count": null,
      "outputs": [
        {
          "output_type": "stream",
          "name": "stdout",
          "text": [
            "Y: [[8 6 0 5 0]\n",
            " [3 9 6 3 2]\n",
            " [7 7 6 7 1]\n",
            " [5 0 2 7 7]\n",
            " [6 8 0 4 0]] \n",
            "\n",
            "Singular Values: [9.19966429e+00 6.74567675e+00 4.21624677e+00 6.96624124e-01\n",
            " 9.74824579e-17]\n",
            "Explained Variances [5.70308781e-01 3.06631771e-01 1.19789332e-01 3.27011570e-03\n",
            " 6.40352399e-35]\n",
            "\n",
            "Covariance Matrix: [[ 3.7  -0.5  -2.8   1.55 -2.5 ]\n",
            " [-0.5  12.5   3.   -4.5  -8.75]\n",
            " [-2.8   3.    9.2   0.3   1.  ]\n",
            " [ 1.55 -4.5   0.3   3.2   2.5 ]\n",
            " [-2.5  -8.75  1.    2.5   8.5 ]]\n"
          ]
        }
      ]
    },
    {
      "cell_type": "markdown",
      "source": [
        "Here, we see some of the *PCA* of our matrix Y."
      ],
      "metadata": {
        "id": "EMOcx93ZJtVm"
      }
    }
  ]
}