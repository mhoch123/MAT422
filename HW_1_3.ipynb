{
  "nbformat": 4,
  "nbformat_minor": 0,
  "metadata": {
    "colab": {
      "provenance": [],
      "include_colab_link": true
    },
    "kernelspec": {
      "name": "python3",
      "display_name": "Python 3"
    },
    "language_info": {
      "name": "python"
    }
  },
  "cells": [
    {
      "cell_type": "markdown",
      "metadata": {
        "id": "view-in-github",
        "colab_type": "text"
      },
      "source": [
        "<a href=\"https://colab.research.google.com/github/mhoch123/MAT422/blob/main/HW_1_3.ipynb\" target=\"_parent\"><img src=\"https://colab.research.google.com/assets/colab-badge.svg\" alt=\"Open In Colab\"/></a>"
      ]
    },
    {
      "cell_type": "markdown",
      "source": [
        "# Homework 1.3\n",
        "Authors: Megan Hoch and Bronwyn Curnow"
      ],
      "metadata": {
        "id": "1X_dsn9bGY_a"
      }
    },
    {
      "cell_type": "markdown",
      "source": [
        "#1.3.1 QR Regression"
      ],
      "metadata": {
        "id": "UVwGT4c_JxL_"
      }
    },
    {
      "cell_type": "markdown",
      "source": [
        "**QR Regression:** This is a useful procedure to solve linear least squares problems using  Gram-Schmidt to get the orthonormal basis $span(a_1,\\ldots, a_m)$ from a linearly independent set of $span(a_1,\\ldots, a_m)$."
      ],
      "metadata": {
        "id": "A2ROHZQPJ1Kb"
      }
    },
    {
      "cell_type": "code",
      "execution_count": null,
      "metadata": {
        "id": "rk0C65ICByOu",
        "colab": {
          "base_uri": "https://localhost:8080/"
        },
        "outputId": "d22f9bbe-aedf-40d6-db50-8640f0284879"
      },
      "outputs": [
        {
          "output_type": "stream",
          "name": "stdout",
          "text": [
            "[[7 2 4]\n",
            " [3 9 1]\n",
            " [7 4 6]] \n",
            "\n",
            "[[-0.68  0.33 -0.66]\n",
            " [-0.29 -0.94 -0.18]\n",
            " [-0.68  0.07  0.73]] [[-10.34  -6.67  -7.06]\n",
            " [  0.    -7.52   0.81]\n",
            " [  0.     0.     1.59]] \n",
            "\n",
            "[[7. 2. 4.]\n",
            " [3. 9. 1.]\n",
            " [7. 4. 6.]]\n"
          ]
        }
      ],
      "source": [
        "import numpy as np\n",
        "import random\n",
        "import matplotlib.pyplot as plt\n",
        "\n",
        "A = np.random.randint(10, size = (3, 3))\n",
        "print(A, '\\n')\n",
        "q,r = np.linalg.qr(A)\n",
        "print(np.round(q,2),np.round(r,2), '\\n')\n",
        "A2 = np.dot(q,r)\n",
        "print(np.round(A2,2))"
      ]
    },
    {
      "cell_type": "markdown",
      "source": [
        "This is the *QR Factorization* of x. As we can see, finding the q and the r matrices, and then dotting them together gives our original matrix back."
      ],
      "metadata": {
        "id": "iVq590UtG8pR"
      }
    },
    {
      "cell_type": "markdown",
      "source": [
        "#1.3.2 Least Squares Problems"
      ],
      "metadata": {
        "id": "iZnhR74bIPUL"
      }
    },
    {
      "cell_type": "markdown",
      "source": [
        "**Normal Equations:** Let $A \\in \\mathbb{R}^{n x m}$ be an $n x m$ matrix with linearly independent columns and let $b \\in \\mathbb{R}^{n}$ be a vector where the solution to the least squares problem is $min_{x \\in \\mathbb{R}^{m}}\\parallel Ax-b \\parallel$ satisfies $A^{T} Ax = A^{T}b$. This is known as a normal equation. We can also write this equation as $\\hat{x}=(A^{T} A)^{-1}A^{T}b$ and the projection can be written as $p=A\\hat{x}$.\n",
        "\n",
        "**Least Squares via QR:** Let $A \\in \\mathbb{R}^{n x m}$ be an $n x m$ matrix with linearly independent columns and let $b \\in \\mathbb{R}^{n}$ be a vector, and let $A = QR$ be a QR decomposition of A, where $Q$ is a $\\mathbb{R}^{n x m}$ matrix with $Q^{T}Q = I_{m x m}$ and $R$ is a upper triangular. The solution satisfies $Rx^{*} = Q^{T}b$, a least squares problem.\n"
      ],
      "metadata": {
        "id": "FKQIOJicIZS8"
      }
    },
    {
      "cell_type": "code",
      "source": [
        "b = np.random.randint(10, size = (3,1))\n",
        "print(b, '\\n')\n",
        "def least(A,b):\n",
        "  xhat = np.matmul(np.matmul(np.linalg.inv((np.matmul(A.transpose(),A))),A.transpose()),b)\n",
        "  return xhat\n",
        "print(least(A,b))\n"
      ],
      "metadata": {
        "id": "9aBmOWZyKokZ",
        "colab": {
          "base_uri": "https://localhost:8080/"
        },
        "outputId": "31a3708e-eee3-4f96-b740-6e32f8dbcaa9"
      },
      "execution_count": null,
      "outputs": [
        {
          "output_type": "stream",
          "name": "stdout",
          "text": [
            "[[2]\n",
            " [5]\n",
            " [3]] \n",
            "\n",
            "[[ 0.14516129]\n",
            " [ 0.50806452]\n",
            " [-0.00806452]]\n"
          ]
        }
      ]
    },
    {
      "cell_type": "markdown",
      "source": [
        "This code finds the value that minimizes $\\hat{x}$."
      ],
      "metadata": {
        "id": "jpUgfLqitTYf"
      }
    },
    {
      "cell_type": "code",
      "source": [
        "p = np.matmul(A, least(A,b))\n",
        "print('\\n', p)"
      ],
      "metadata": {
        "colab": {
          "base_uri": "https://localhost:8080/"
        },
        "id": "AWfVr_O9tTtj",
        "outputId": "945f8301-4f67-40a6-e6d2-875bdcf7e176"
      },
      "execution_count": null,
      "outputs": [
        {
          "output_type": "stream",
          "name": "stdout",
          "text": [
            "\n",
            " [[2.]\n",
            " [5.]\n",
            " [3.]]\n"
          ]
        }
      ]
    },
    {
      "cell_type": "markdown",
      "source": [
        "As we can see by multiplying A by $\\hat{x}$, we get a value back that is close to our original b value."
      ],
      "metadata": {
        "id": "N5Zfb_tFtjyz"
      }
    },
    {
      "cell_type": "markdown",
      "source": [
        "#1.3.3 Linear Regression"
      ],
      "metadata": {
        "id": "5PQoyvfBLFa3"
      }
    },
    {
      "cell_type": "markdown",
      "source": [
        "**Linear Regression:** Given input data points $(x_i,y_i)_{i=1} ^{n}$ with each $x_i = (x_{i1},\\ldots,x_{id})^{T}$, The common approach is a minimization problem which can be formulated in the matrix form, which then can be transformed into the equation $min_{\\beta} \\parallel y-A\\beta \\parallel^{2}$"
      ],
      "metadata": {
        "id": "sPOGVDxrLQAM"
      }
    },
    {
      "cell_type": "code",
      "source": [
        "A = np.array(([1,1],[1,2],[1,3],[1,3.5],[1,4],[1,5],[1,5],[1,7],[1,8]))\n",
        "b1 = np.array(([1,3,2,4,8,6,1,5,9]))\n",
        "b = b1.transpose()\n",
        "\n",
        "xhat = least(A,b)\n",
        "x = np.arange(0,8,.1)\n",
        "y = xhat[1]*x + xhat[0]\n",
        "plt.plot(x,y)\n",
        "plt.plot(A[:,1], b, 'o')"
      ],
      "metadata": {
        "colab": {
          "base_uri": "https://localhost:8080/",
          "height": 447
        },
        "id": "0aV6sjespJoL",
        "outputId": "10c6873e-cdd0-4c37-fdf9-80f80a5943c8"
      },
      "execution_count": null,
      "outputs": [
        {
          "output_type": "execute_result",
          "data": {
            "text/plain": [
              "[<matplotlib.lines.Line2D at 0x7ec1f04cc550>]"
            ]
          },
          "metadata": {},
          "execution_count": 4
        },
        {
          "output_type": "display_data",
          "data": {
            "text/plain": [
              "<Figure size 640x480 with 1 Axes>"
            ],
            "image/png": "[encoded data removed]"
          },
          "metadata": {}
        }
      ]
    },
    {
      "cell_type": "markdown",
      "source": [
        "Using 'random' data, we can use our *Least Squares* function to create a trend line to fit data!"
      ],
      "metadata": {
        "id": "zaWAEin-pfAo"
      }
    }
  ]
}