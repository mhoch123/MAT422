{
  "nbformat": 4,
  "nbformat_minor": 0,
  "metadata": {
    "colab": {
      "provenance": [],
      "include_colab_link": true
    },
    "kernelspec": {
      "name": "python3",
      "display_name": "Python 3"
    },
    "language_info": {
      "name": "python"
    }
  },
  "cells": [
    {
      "cell_type": "markdown",
      "metadata": {
        "id": "view-in-github",
        "colab_type": "text"
      },
      "source": [
        "<a href=\"https://colab.research.google.com/github/mhoch123/MAT422/blob/main/HW_2_4.ipynb\" target=\"_parent\"><img src=\"https://colab.research.google.com/assets/colab-badge.svg\" alt=\"Open In Colab\"/></a>"
      ]
    },
    {
      "cell_type": "markdown",
      "source": [
        "#Homework 2.4\n",
        "Authors: Megan Hoch and Bronwyn Curnow"
      ],
      "metadata": {
        "id": "zqBWzBl38K3q"
      }
    },
    {
      "cell_type": "markdown",
      "source": [
        "# 2.4.1. MLE for random samples"
      ],
      "metadata": {
        "id": "Jr-dEKQE8PWJ"
      }
    },
    {
      "cell_type": "markdown",
      "source": [
        "**Maximum Likelihood Estimation (MLE):** is an effective approach of estimating the parameter of a probability distribution through maximizing a likelihood function.\n",
        "\n",
        "**MLE equation:** $\\hat{\\mu}=\\hat{X} \\; \\; \\;\\hat{\\sigma}^{2}=\\frac{\\sum (X_{i}-\\hat{X})^2}{n}$"
      ],
      "metadata": {
        "id": "DUn_W2HQfF_q"
      }
    },
    {
      "cell_type": "code",
      "source": [
        "import numpy as np\n",
        "import pandas as pd\n",
        "from matplotlib import pyplot as plt\n",
        "import seaborn as sns\n",
        "from scipy.optimize import minimize\n",
        "import scipy.stats as stats\n",
        "import statsmodels.api as sm\n",
        "from statsmodels.base.model import GenericLikelihoodModel\n",
        "\n",
        "n = 200\n",
        "x = np.linspace(-10, 30, n)\n",
        "z = np.random.normal(10, 5, 200)\n",
        "y = 4*x + z\n",
        "\n",
        "data = pd.DataFrame({'x':x, 'y':y})\n",
        "sns.regplot(x='x', y='y', data = data)\n",
        "plt.show\n"
      ],
      "metadata": {
        "colab": {
          "base_uri": "https://localhost:8080/",
          "height": 617
        },
        "id": "MhzxV1sn9ZyI",
        "outputId": "b8416c79-f7bb-4a46-f672-1d7ba7a94dcd"
      },
      "execution_count": null,
      "outputs": [
        {
          "output_type": "execute_result",
          "data": {
            "text/plain": [
              "<function matplotlib.pyplot.show(close=None, block=None)>"
            ],
            "text/html": [
              "<div style=\"max-width:800px; border: 1px solid var(--colab-border-color);\"><style>\n",
              "      pre.function-repr-contents {\n",
              "        overflow-x: auto;\n",
              "        padding: 8px 12px;\n",
              "        max-height: 500px;\n",
              "      }\n",
              "\n",
              "      pre.function-repr-contents.function-repr-contents-collapsed {\n",
              "        cursor: pointer;\n",
              "        max-height: 100px;\n",
              "      }\n",
              "    </style>\n",
              "    <pre style=\"white-space: initial; background:\n",
              "         var(--colab-secondary-surface-color); padding: 8px 12px;\n",
              "         border-bottom: 1px solid var(--colab-border-color);\"><b>matplotlib.pyplot.show</b><br/>def show(*args, **kwargs)</pre><pre class=\"function-repr-contents function-repr-contents-collapsed\" style=\"\"><a class=\"filepath\" style=\"display:none\" href=\"#\">/usr/local/lib/python3.10/dist-packages/matplotlib/pyplot.py</a>Display all open figures.\n",
              "\n",
              "Parameters\n",
              "----------\n",
              "block : bool, optional\n",
              "    Whether to wait for all figures to be closed before returning.\n",
              "\n",
              "    If `True` block and run the GUI main loop until all figure windows\n",
              "    are closed.\n",
              "\n",
              "    If `False` ensure that all figure windows are displayed and return\n",
              "    immediately.  In this case, you are responsible for ensuring\n",
              "    that the event loop is running to have responsive figures.\n",
              "\n",
              "    Defaults to True in non-interactive mode and to False in interactive\n",
              "    mode (see `.pyplot.isinteractive`).\n",
              "\n",
              "See Also\n",
              "--------\n",
              "ion : Enable interactive mode, which shows / updates the figure after\n",
              "      every plotting command, so that calling ``show()`` is not necessary.\n",
              "ioff : Disable interactive mode.\n",
              "savefig : Save the figure to an image file instead of showing it on screen.\n",
              "\n",
              "Notes\n",
              "-----\n",
              "**Saving figures to file and showing a window at the same time**\n",
              "\n",
              "If you want an image file as well as a user interface window, use\n",
              "`.pyplot.savefig` before `.pyplot.show`. At the end of (a blocking)\n",
              "``show()`` the figure is closed and thus unregistered from pyplot. Calling\n",
              "`.pyplot.savefig` afterwards would save a new and thus empty figure. This\n",
              "limitation of command order does not apply if the show is non-blocking or\n",
              "if you keep a reference to the figure and use `.Figure.savefig`.\n",
              "\n",
              "**Auto-show in jupyter notebooks**\n",
              "\n",
              "The jupyter backends (activated via ``%matplotlib inline``,\n",
              "``%matplotlib notebook``, or ``%matplotlib widget``), call ``show()`` at\n",
              "the end of every cell by default. Thus, you usually don&#x27;t have to call it\n",
              "explicitly there.</pre>\n",
              "      <script>\n",
              "      if (google.colab.kernel.accessAllowed && google.colab.files && google.colab.files.view) {\n",
              "        for (const element of document.querySelectorAll('.filepath')) {\n",
              "          element.style.display = 'block'\n",
              "          element.onclick = (event) => {\n",
              "            event.preventDefault();\n",
              "            event.stopPropagation();\n",
              "            google.colab.files.view(element.textContent, 401);\n",
              "          };\n",
              "        }\n",
              "      }\n",
              "      for (const element of document.querySelectorAll('.function-repr-contents')) {\n",
              "        element.onclick = (event) => {\n",
              "          event.preventDefault();\n",
              "          event.stopPropagation();\n",
              "          element.classList.toggle('function-repr-contents-collapsed');\n",
              "        };\n",
              "      }\n",
              "      </script>\n",
              "      </div>"
            ]
          },
          "metadata": {},
          "execution_count": 17
        },
        {
          "output_type": "display_data",
          "data": {
            "text/plain": [
              "<Figure size 640x480 with 1 Axes>"
            ],
            "image/png": "[encoded data removed]"
          },
          "metadata": {}
        }
      ]
    },
    {
      "cell_type": "markdown",
      "source": [
        "Here we create a semi random variable, and plot it's linear regression line."
      ],
      "metadata": {
        "id": "wbGNAYVR477n"
      }
    },
    {
      "cell_type": "code",
      "source": [
        "data['constant'] = 1\n",
        "\n",
        "X = data[['constant', 'x']]\n",
        "sm.OLS(y, X).fit().summary()"
      ],
      "metadata": {
        "colab": {
          "base_uri": "https://localhost:8080/",
          "height": 445
        },
        "id": "rVtkISCE5ER8",
        "outputId": "98272593-b3db-4945-edb7-89ac15eee15b"
      },
      "execution_count": null,
      "outputs": [
        {
          "output_type": "execute_result",
          "data": {
            "text/plain": [
              "<class 'statsmodels.iolib.summary.Summary'>\n",
              "\"\"\"\n",
              "                            OLS Regression Results                            \n",
              "==============================================================================\n",
              "Dep. Variable:                      y   R-squared:                       0.989\n",
              "Model:                            OLS   Adj. R-squared:                  0.989\n",
              "Method:                 Least Squares   F-statistic:                 1.791e+04\n",
              "Date:                Thu, 03 Oct 2024   Prob (F-statistic):          3.85e-196\n",
              "Time:                        01:00:20   Log-Likelihood:                -602.38\n",
              "No. Observations:                 200   AIC:                             1209.\n",
              "Df Residuals:                     198   BIC:                             1215.\n",
              "Df Model:                           1                                         \n",
              "Covariance Type:            nonrobust                                         \n",
              "==============================================================================\n",
              "                 coef    std err          t      P>|t|      [0.025      0.975]\n",
              "------------------------------------------------------------------------------\n",
              "thing         10.4639      0.461     22.679      0.000       9.554      11.374\n",
              "x              4.0313      0.030    133.845      0.000       3.972       4.091\n",
              "==============================================================================\n",
              "Omnibus:                        1.247   Durbin-Watson:                   1.874\n",
              "Prob(Omnibus):                  0.536   Jarque-Bera (JB):                1.185\n",
              "Skew:                          -0.187   Prob(JB):                        0.553\n",
              "Kurtosis:                       2.959   Cond. No.                         20.3\n",
              "==============================================================================\n",
              "\n",
              "Notes:\n",
              "[1] Standard Errors assume that the covariance matrix of the errors is correctly specified.\n",
              "\"\"\""
            ],
            "text/html": [
              "<table class=\"simpletable\">\n",
              "<caption>OLS Regression Results</caption>\n",
              "<tr>\n",
              "  <th>Dep. Variable:</th>            <td>y</td>        <th>  R-squared:         </th> <td>   0.989</td> \n",
              "</tr>\n",
              "<tr>\n",
              "  <th>Model:</th>                   <td>OLS</td>       <th>  Adj. R-squared:    </th> <td>   0.989</td> \n",
              "</tr>\n",
              "<tr>\n",
              "  <th>Method:</th>             <td>Least Squares</td>  <th>  F-statistic:       </th> <td>1.791e+04</td>\n",
              "</tr>\n",
              "<tr>\n",
              "  <th>Date:</th>             <td>Thu, 03 Oct 2024</td> <th>  Prob (F-statistic):</th> <td>3.85e-196</td>\n",
              "</tr>\n",
              "<tr>\n",
              "  <th>Time:</th>                 <td>01:00:20</td>     <th>  Log-Likelihood:    </th> <td> -602.38</td> \n",
              "</tr>\n",
              "<tr>\n",
              "  <th>No. Observations:</th>      <td>   200</td>      <th>  AIC:               </th> <td>   1209.</td> \n",
              "</tr>\n",
              "<tr>\n",
              "  <th>Df Residuals:</th>          <td>   198</td>      <th>  BIC:               </th> <td>   1215.</td> \n",
              "</tr>\n",
              "<tr>\n",
              "  <th>Df Model:</th>              <td>     1</td>      <th>                     </th>     <td> </td>    \n",
              "</tr>\n",
              "<tr>\n",
              "  <th>Covariance Type:</th>      <td>nonrobust</td>    <th>                     </th>     <td> </td>    \n",
              "</tr>\n",
              "</table>\n",
              "<table class=\"simpletable\">\n",
              "<tr>\n",
              "    <td></td>       <th>coef</th>     <th>std err</th>      <th>t</th>      <th>P>|t|</th>  <th>[0.025</th>    <th>0.975]</th>  \n",
              "</tr>\n",
              "<tr>\n",
              "  <th>thing</th> <td>   10.4639</td> <td>    0.461</td> <td>   22.679</td> <td> 0.000</td> <td>    9.554</td> <td>   11.374</td>\n",
              "</tr>\n",
              "<tr>\n",
              "  <th>x</th>     <td>    4.0313</td> <td>    0.030</td> <td>  133.845</td> <td> 0.000</td> <td>    3.972</td> <td>    4.091</td>\n",
              "</tr>\n",
              "</table>\n",
              "<table class=\"simpletable\">\n",
              "<tr>\n",
              "  <th>Omnibus:</th>       <td> 1.247</td> <th>  Durbin-Watson:     </th> <td>   1.874</td>\n",
              "</tr>\n",
              "<tr>\n",
              "  <th>Prob(Omnibus):</th> <td> 0.536</td> <th>  Jarque-Bera (JB):  </th> <td>   1.185</td>\n",
              "</tr>\n",
              "<tr>\n",
              "  <th>Skew:</th>          <td>-0.187</td> <th>  Prob(JB):          </th> <td>   0.553</td>\n",
              "</tr>\n",
              "<tr>\n",
              "  <th>Kurtosis:</th>      <td> 2.959</td> <th>  Cond. No.          </th> <td>    20.3</td>\n",
              "</tr>\n",
              "</table><br/><br/>Notes:<br/>[1] Standard Errors assume that the covariance matrix of the errors is correctly specified."
            ],
            "text/latex": "\\begin{center}\n\\begin{tabular}{lclc}\n\\toprule\n\\textbf{Dep. Variable:}    &        y         & \\textbf{  R-squared:         } &     0.989   \\\\\n\\textbf{Model:}            &       OLS        & \\textbf{  Adj. R-squared:    } &     0.989   \\\\\n\\textbf{Method:}           &  Least Squares   & \\textbf{  F-statistic:       } & 1.791e+04   \\\\\n\\textbf{Date:}             & Thu, 03 Oct 2024 & \\textbf{  Prob (F-statistic):} & 3.85e-196   \\\\\n\\textbf{Time:}             &     01:00:20     & \\textbf{  Log-Likelihood:    } &   -602.38   \\\\\n\\textbf{No. Observations:} &         200      & \\textbf{  AIC:               } &     1209.   \\\\\n\\textbf{Df Residuals:}     &         198      & \\textbf{  BIC:               } &     1215.   \\\\\n\\textbf{Df Model:}         &           1      & \\textbf{                     } &             \\\\\n\\textbf{Covariance Type:}  &    nonrobust     & \\textbf{                     } &             \\\\\n\\bottomrule\n\\end{tabular}\n\\begin{tabular}{lcccccc}\n               & \\textbf{coef} & \\textbf{std err} & \\textbf{t} & \\textbf{P$> |$t$|$} & \\textbf{[0.025} & \\textbf{0.975]}  \\\\\n\\midrule\n\\textbf{thing} &      10.4639  &        0.461     &    22.679  &         0.000        &        9.554    &       11.374     \\\\\n\\textbf{x}     &       4.0313  &        0.030     &   133.845  &         0.000        &        3.972    &        4.091     \\\\\n\\bottomrule\n\\end{tabular}\n\\begin{tabular}{lclc}\n\\textbf{Omnibus:}       &  1.247 & \\textbf{  Durbin-Watson:     } &    1.874  \\\\\n\\textbf{Prob(Omnibus):} &  0.536 & \\textbf{  Jarque-Bera (JB):  } &    1.185  \\\\\n\\textbf{Skew:}          & -0.187 & \\textbf{  Prob(JB):          } &    0.553  \\\\\n\\textbf{Kurtosis:}      &  2.959 & \\textbf{  Cond. No.          } &     20.3  \\\\\n\\bottomrule\n\\end{tabular}\n%\\caption{OLS Regression Results}\n\\end{center}\n\nNotes: \\newline\n [1] Standard Errors assume that the covariance matrix of the errors is correctly specified."
          },
          "metadata": {},
          "execution_count": 18
        }
      ]
    },
    {
      "cell_type": "markdown",
      "source": [
        "This OSL model will give us a basis for comparison for our MLE that we will do in the following steps."
      ],
      "metadata": {
        "id": "HqBzGYa35HCg"
      }
    },
    {
      "cell_type": "code",
      "source": [
        "def MLE(parameters):\n",
        "  predicted_val = parameters[0] + parameters[1]*x\n",
        "  return -1*np.sum(stats.norm.logpdf(y,predicted_val,parameters[2]))"
      ],
      "metadata": {
        "id": "QziDzbPOEzps"
      },
      "execution_count": null,
      "outputs": []
    },
    {
      "cell_type": "markdown",
      "source": [
        "This method defines the MLE."
      ],
      "metadata": {
        "id": "BSr-GxVs5NS-"
      }
    },
    {
      "cell_type": "code",
      "source": [
        "guess_vals = np.array([3,3,3])\n",
        "MLE_val = minimize(MLE, guess_vals, method = 'Nelder-Mead')\n",
        "MLE_val"
      ],
      "metadata": {
        "colab": {
          "base_uri": "https://localhost:8080/"
        },
        "id": "dv34xGNdFXXM",
        "outputId": "a07ab3c0-2a9c-4eed-a176-0bd8e254b9e0"
      },
      "execution_count": null,
      "outputs": [
        {
          "output_type": "execute_result",
          "data": {
            "text/plain": [
              "       message: Optimization terminated successfully.\n",
              "       success: True\n",
              "        status: 0\n",
              "           fun: 596.0521071353365\n",
              "             x: [ 1.061e+01  3.974e+00  4.765e+00]\n",
              "           nit: 109\n",
              "          nfev: 191\n",
              " final_simplex: (array([[ 1.061e+01,  3.974e+00,  4.765e+00],\n",
              "                       [ 1.061e+01,  3.974e+00,  4.765e+00],\n",
              "                       [ 1.061e+01,  3.974e+00,  4.765e+00],\n",
              "                       [ 1.061e+01,  3.974e+00,  4.765e+00]]), array([ 5.961e+02,  5.961e+02,  5.961e+02,  5.961e+02]))"
            ]
          },
          "metadata": {},
          "execution_count": 16
        }
      ]
    },
    {
      "cell_type": "markdown",
      "source": [
        "As we can see, the x array produced here is roughly the same as what we see in the OLS model!"
      ],
      "metadata": {
        "id": "8O8DkoZT5QCl"
      }
    },
    {
      "cell_type": "markdown",
      "source": [
        "# 2.4.2. Linear regression"
      ],
      "metadata": {
        "id": "4syd_k6H9avF"
      }
    },
    {
      "cell_type": "markdown",
      "source": [
        "**Derived MLE estimate:** $\\hat{\\beta} =arg max \\wp(\\beta|y)=arg max_{\\beta} \\sum\\limits_{i=1}\\limits^{n}(y_{i}-\\hat{y}_{i})^{2}$"
      ],
      "metadata": {
        "id": "QOuMAlPaf55M"
      }
    }
  ]
}