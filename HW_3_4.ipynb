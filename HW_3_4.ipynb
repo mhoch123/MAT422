{
  "nbformat": 4,
  "nbformat_minor": 0,
  "metadata": {
    "colab": {
      "provenance": [],
      "include_colab_link": true
    },
    "kernelspec": {
      "name": "python3",
      "display_name": "Python 3"
    },
    "language_info": {
      "name": "python"
    }
  },
  "cells": [
    {
      "cell_type": "markdown",
      "metadata": {
        "id": "view-in-github",
        "colab_type": "text"
      },
      "source": [
        "<a href=\"https://colab.research.google.com/github/mhoch123/MAT422/blob/main/HW_3_4.ipynb\" target=\"_parent\"><img src=\"https://colab.research.google.com/assets/colab-badge.svg\" alt=\"Open In Colab\"/></a>"
      ]
    },
    {
      "cell_type": "markdown",
      "source": [
        "#Homework 3.4\n",
        "Authors: Megan Hoch and Bronwyn Curnow"
      ],
      "metadata": {
        "id": "ttH6lhzPviD3"
      }
    },
    {
      "cell_type": "markdown",
      "source": [
        "#3.4 Logistic Regression"
      ],
      "metadata": {
        "id": "LMqAj_RNvnRT"
      }
    },
    {
      "cell_type": "markdown",
      "source": [
        "**Logistic Regression:** A model that in its basic form uses a logistic function to model a binary dependent variable and can be extended to several classes of events such as classification of images.\n",
        "\n",
        "For $\\textbf{x}, \\alpha \\in \\mathbb{R}^{d} $, let $p(\\alpha; \\textbf{x}) $ be the probability of the output to be 1, we define $log \\frac{p(\\alpha ; \\textbf{x})}{1-p(\\alpha ; \\textbf{x} )} = \\alpha^{T}\\textbf{x}$\n",
        "\n",
        "**Gradient Descent:** $\\sigma'(t)=\\sigma(t)(1-\\sigma(t))$\n",
        "\n",
        "**Stochastic Gradient Descent:** We pick a sample $I$ uniformly at random in $(1, \\ldots, n)$ and update as follows: $\\textbf{x}^{k+1}=\\textbf{x}^{k}+\\beta(b_{I}-\\sigma(\\alpha^{T}_{I}\\textbf{x}^{k}))\\sigma_{I}$"
      ],
      "metadata": {
        "id": "B4P0mUxkc71g"
      }
    },
    {
      "cell_type": "code",
      "source": [
        "import matplotlib.pyplot as plt\n",
        "import numpy as np\n",
        "from sklearn.linear_model import LogisticRegression as LR\n",
        "from sklearn.metrics import classification_report, confusion_matrix\n",
        "\n",
        "x = np.arange(20).reshape(-1, 1)\n",
        "y = np.array([0, 0, 0, 0, 0,0,0,0,0,1,1,1,1,1,1, 1, 1, 1, 1, 1])\n",
        "\n",
        "\n",
        "model = LR(solver='liblinear', random_state=0).fit(x, y)\n",
        "\n",
        "print(\"Model classes:\", model.classes_)\n",
        "print(\"Model Intercept\",model.intercept_)\n",
        "print('model coefficient', model.coef_)\n",
        "print('Predicted probability', model.predict_proba(x))\n",
        "print(\"Model Prediction\", model.predict(x))\n",
        "print('score', model.score(x, y))\n",
        "print('Confusion Matrix', confusion_matrix(y, model.predict(x)))\n",
        "\n",
        "\n",
        "cm = confusion_matrix(y, model.predict(x))\n",
        "\n",
        "fig, ax = plt.subplots(figsize=(8, 8))\n",
        "ax.imshow(cm)\n",
        "ax.grid(False)\n",
        "ax.xaxis.set(ticks=(0, 1), ticklabels=('Predicted 0s', 'Predicted 1s'))\n",
        "ax.yaxis.set(ticks=(0, 1), ticklabels=('Actual 0s', 'Actual 1s'))\n",
        "ax.set_ylim(1.5, -0.5)\n",
        "for i in range(2):\n",
        "    for j in range(2):\n",
        "        ax.text(j, i, cm[i, j], ha='center', va='center', color='red')\n",
        "plt.show()\n"
      ],
      "metadata": {
        "id": "Uuh3QZ7E8yGg",
        "colab": {
          "base_uri": "https://localhost:8080/",
          "height": 1000
        },
        "outputId": "281d685e-1855-4743-9494-ffbdc0b9afca"
      },
      "execution_count": null,
      "outputs": [
        {
          "output_type": "stream",
          "name": "stdout",
          "text": [
            "Model classes: [0 1]\n",
            "Model Intercept [-1.79909598]\n",
            "model coefficient [[0.28500864]]\n",
            "Predicted probability [[0.85803885 0.14196115]\n",
            " [0.81966616 0.18033384]\n",
            " [0.77365728 0.22634272]\n",
            " [0.71992106 0.28007894]\n",
            " [0.65904952 0.34095048]\n",
            " [0.59243791 0.40756209]\n",
            " [0.52224634 0.47775366]\n",
            " [0.45116505 0.54883495]\n",
            " [0.38202236 0.61797764]\n",
            " [0.31734897 0.68265103]\n",
            " [0.25903496 0.74096504]\n",
            " [0.20816878 0.79183122]\n",
            " [0.16506594 0.83493406]\n",
            " [0.12942906 0.87057094]\n",
            " [0.10055935 0.89944065]\n",
            " [0.07755548 0.92244452]\n",
            " [0.05946605 0.94053395]\n",
            " [0.04538827 0.95461173]\n",
            " [0.0345209  0.9654791 ]\n",
            " [0.02618414 0.97381586]]\n",
            "Model Prediction [0 0 0 0 0 0 0 1 1 1 1 1 1 1 1 1 1 1 1 1]\n",
            "score 0.9\n",
            "Confusion Matrix [[ 7  2]\n",
            " [ 0 11]]\n"
          ]
        },
        {
          "output_type": "display_data",
          "data": {
            "text/plain": [
              "<Figure size 800x800 with 1 Axes>"
            ],
            "image/png": "[encoded data removed]"
          },
          "metadata": {}
        }
      ]
    },
    {
      "cell_type": "code",
      "source": [
        "#Same Model but tune the inverse regulation strength for more accuracy (for this simple data at least)\n",
        "\n",
        "x = np.arange(20).reshape(-1, 1)\n",
        "y = np.array([0, 0, 0, 0, 0,0,0,0,0,1,1,1,1,1,1, 1, 1, 1, 1, 1])\n",
        "\n",
        "\n",
        "model = LR(solver='liblinear', C = 20.0, random_state=0).fit(x, y)\n",
        "\n",
        "print(\"Model classes:\", model.classes_)\n",
        "print(\"Model Intercept\",model.intercept_)\n",
        "print('model coefficient', model.coef_)\n",
        "print('Predicted probability', model.predict_proba(x))\n",
        "print(\"Model Prediction\", model.predict(x))\n",
        "print('score', model.score(x, y))\n",
        "print('Confusion Matrix', confusion_matrix(y, model.predict(x)))\n",
        "print(classification_report(y, model.predict(x)))\n",
        "\n",
        "cm = confusion_matrix(y, model.predict(x))\n",
        "\n",
        "fig, ax = plt.subplots(figsize=(8, 8))\n",
        "ax.imshow(cm)\n",
        "ax.grid(False)\n",
        "ax.xaxis.set(ticks=(0, 1), ticklabels=('Predicted 0s', 'Predicted 1s'))\n",
        "ax.yaxis.set(ticks=(0, 1), ticklabels=('Actual 0s', 'Actual 1s'))\n",
        "ax.set_ylim(1.5, -0.5)\n",
        "for i in range(2):\n",
        "    for j in range(2):\n",
        "        ax.text(j, i, cm[i, j], ha='center', va='center', color='red')\n",
        "plt.show()"
      ],
      "metadata": {
        "colab": {
          "base_uri": "https://localhost:8080/",
          "height": 1000
        },
        "id": "wC9VerJc4BLj",
        "outputId": "cfb320fa-5199-46eb-ed4a-3feff7a38d1c"
      },
      "execution_count": null,
      "outputs": [
        {
          "output_type": "stream",
          "name": "stdout",
          "text": [
            "Model classes: [0 1]\n",
            "Model Intercept [-6.39972571]\n",
            "model coefficient [[0.78252349]]\n",
            "Predicted probability [[9.98340745e-01 1.65925537e-03]\n",
            " [9.96378368e-01 3.62163236e-03]\n",
            " [9.92113450e-01 7.88654970e-03]\n",
            " [9.82912203e-01 1.70877967e-02]\n",
            " [9.63372179e-01 3.66278206e-02]\n",
            " [9.23233104e-01 7.67668961e-02]\n",
            " [8.46132582e-01 1.53867418e-01]\n",
            " [7.15461915e-01 2.84538085e-01]\n",
            " [5.34827949e-01 4.65172051e-01]\n",
            " [3.44571924e-01 6.55428076e-01]\n",
            " [1.93799364e-01 8.06200636e-01]\n",
            " [9.90314644e-02 9.00968536e-01]\n",
            " [4.78543403e-02 9.52145660e-01]\n",
            " [2.24649090e-02 9.77535091e-01]\n",
            " [1.03988867e-02 9.89601113e-01]\n",
            " [4.78188699e-03 9.95218113e-01]\n",
            " [2.19221069e-03 9.97807789e-01]\n",
            " [1.00358393e-03 9.98996416e-01]\n",
            " [4.59139528e-04 9.99540860e-01]\n",
            " [2.09994194e-04 9.99790006e-01]]\n",
            "Model Prediction [0 0 0 0 0 0 0 0 0 1 1 1 1 1 1 1 1 1 1 1]\n",
            "score 1.0\n",
            "Confusion Matrix [[ 9  0]\n",
            " [ 0 11]]\n",
            "              precision    recall  f1-score   support\n",
            "\n",
            "           0       1.00      1.00      1.00         9\n",
            "           1       1.00      1.00      1.00        11\n",
            "\n",
            "    accuracy                           1.00        20\n",
            "   macro avg       1.00      1.00      1.00        20\n",
            "weighted avg       1.00      1.00      1.00        20\n",
            "\n"
          ]
        },
        {
          "output_type": "display_data",
          "data": {
            "text/plain": [
              "<Figure size 800x800 with 1 Axes>"
            ],
            "image/png": "[encoded data removed]"
          },
          "metadata": {}
        }
      ]
    }
  ]
}