{
  "nbformat": 4,
  "nbformat_minor": 0,
  "metadata": {
    "colab": {
      "provenance": [],
      "include_colab_link": true
    },
    "kernelspec": {
      "name": "python3",
      "display_name": "Python 3"
    },
    "language_info": {
      "name": "python"
    }
  },
  "cells": [
    {
      "cell_type": "markdown",
      "metadata": {
        "id": "view-in-github",
        "colab_type": "text"
      },
      "source": [
        "<a href=\"https://colab.research.google.com/github/mhoch123/MAT422/blob/main/HW_2_2.ipynb\" target=\"_parent\"><img src=\"https://colab.research.google.com/assets/colab-badge.svg\" alt=\"Open In Colab\"/></a>"
      ]
    },
    {
      "cell_type": "markdown",
      "source": [
        "# Homework 2.2\n",
        "Authors: Megan Hoch and Bronwyn Curnow"
      ],
      "metadata": {
        "id": "yfRHdAm97spc"
      }
    },
    {
      "cell_type": "markdown",
      "source": [
        "#2.2.1. Probability Axioms\n"
      ],
      "metadata": {
        "id": "rIkBLk147xs5"
      }
    },
    {
      "cell_type": "markdown",
      "source": [
        "The probability assignments should satisfy the following axioms of probability:\n",
        "- For any event $A, 1 \\geq P(A) \\geq 0$\n",
        "- $P(S) = 1$\n",
        "- If $A_1,A_2,A_3, \\ldots$ is an infinite collection of disjoint events, then\n",
        "$P(A_{1}\\cup A_{2}\\cup A_{3} \\cup \\ldots) = \\sum_{i=1}^{\\inf}P(A_i)$\n",
        "- For any event $A, P(A) +P(A')=1$, from which $P(A) =1-P(A')$\n",
        "-When events $A$ and $B$ are mutually exclusive, $P(A\\cup B)=P(A)+P(B)$\n",
        "- For any two events $A$ and $B$,\n",
        "$P(A\\cup B)=P(A)+P(B)-P(A\\cap B)$\n"
      ],
      "metadata": {
        "id": "z6_awXDN-UvF"
      }
    },
    {
      "cell_type": "code",
      "execution_count": null,
      "metadata": {
        "colab": {
          "base_uri": "https://localhost:8080/"
        },
        "id": "k-job_M77hqL",
        "outputId": "0d8c2b65-893b-47ac-cf7e-d84db137b28a"
      },
      "outputs": [
        {
          "output_type": "stream",
          "name": "stdout",
          "text": [
            "Number: 1 Amount rolled: 176 Percentage: 0.176\n",
            "Number: 2 Amount rolled: 181 Percentage: 0.181\n",
            "Number: 3 Amount rolled: 158 Percentage: 0.158\n",
            "Number: 4 Amount rolled: 169 Percentage: 0.169\n",
            "Number: 5 Amount rolled: 150 Percentage: 0.15\n",
            "Number: 6 Amount rolled: 166 Percentage: 0.166\n"
          ]
        }
      ],
      "source": [
        "#Code an example of one of the axioms\n",
        "import random\n",
        "import numpy as np\n",
        "import matplotlib.pyplot as plt\n",
        "from scipy.stats import norm\n",
        "import statistics\n",
        "\n",
        "\n",
        "def roll():\n",
        "  return random.randint(1, 6)\n",
        "rolls =  []\n",
        "for i in range(1000):\n",
        "  rolls.append(roll())\n",
        "for i in range(6):\n",
        "  print('Number:', i+1, 'Amount rolled:', rolls.count(i+1), 'Percentage:', rolls.count(i+1)/1000)\n",
        "\n"
      ]
    },
    {
      "cell_type": "markdown",
      "source": [
        "Here we see an example of a random variable, in this case, the rolls of a dice. We expect each roll to occur roughly 16% of the time."
      ],
      "metadata": {
        "id": "OSksyXPSH-Is"
      }
    },
    {
      "cell_type": "markdown",
      "source": [
        "#2.2.2. Conditional Probability\n"
      ],
      "metadata": {
        "id": "l1IiUFez72X9"
      }
    },
    {
      "cell_type": "markdown",
      "source": [
        "**Conditional Probability:** The likelihood of an event/outcome occurring, based on the occurrences of a previous event/outcome.\n",
        "\n",
        "For any two events $A$ and $B$ with $P(B)>0$, the conditional probability of $A$ given that $B$ has occurred is defined by\n",
        "$P(A|B)=\\frac{P(A\\cap B)}{P(B)}$\n",
        "\n",
        "**Independent:** Two events $A$ and $B$ are independent if $P(A|B) = P(A)$ (or $P(A\\cap B)=P(A)*P(B))$, and are dependent otherwise\n",
        "\n",
        "**Mutually Independent:** Events $A_1, \\ldots, A_n$ are mutually independent if for every $k(k=2,3,\\ldots,n)$ and every subset of indices $i_1,i_2,\\ldots,i_k$\n",
        "$P(A_{i_1}\\cap A_{i_2}\\cap \\ldots \\cap A_{i_k})= P(A_{i_1})*P(A_{i_2})*\\ldots P(A_{i_k}) $"
      ],
      "metadata": {
        "id": "odW4Ewgp-lRI"
      }
    },
    {
      "cell_type": "code",
      "source": [
        "#Give an example of dependent variables\n",
        "firstroll = roll()\n",
        "if firstroll < 3:\n",
        "  print('You cannot roll a 9 on two dice if the first roll is a', firstroll)\n",
        "else:\n",
        "  print('The possibility of rolling at least a 9 on two dice given that the first roll is', firstroll, ':')\n",
        "  if firstroll == 3:\n",
        "    p = .16\n",
        "    print(p)\n",
        "  elif firstroll == 4:\n",
        "    p = .33\n",
        "    print(p)\n",
        "  elif firstroll == 5:\n",
        "    p = 1/2\n",
        "    print(p)\n",
        "  else:\n",
        "    p = .66\n",
        "    print(p)\n"
      ],
      "metadata": {
        "colab": {
          "base_uri": "https://localhost:8080/"
        },
        "id": "gip1jZ8F76ea",
        "outputId": "cd0a809d-119a-499e-8e11-ee6c9db32ddd"
      },
      "execution_count": null,
      "outputs": [
        {
          "output_type": "stream",
          "name": "stdout",
          "text": [
            "The possibility of rolling at least a 9 on two dice given that the first roll is 3 :\n",
            "0.16\n"
          ]
        }
      ]
    },
    {
      "cell_type": "markdown",
      "source": [
        "#2.2.3. Discrete Random Variables\n"
      ],
      "metadata": {
        "id": "kVjru_ry76uP"
      }
    },
    {
      "cell_type": "markdown",
      "source": [
        "**Discrete Random Variable:** A random variable whose possible values either constitute a finite set or else can be listed in a infinite sequence\n",
        "\n",
        "**Probability Distribution of a Discrete Random Variable:** Is defined for every number $x$ by $p(x)=P(X=x)=P($ all $s \\in S: X(s) =x)$"
      ],
      "metadata": {
        "id": "l12XQxQBCD_h"
      }
    },
    {
      "cell_type": "code",
      "source": [
        "#Create and graph a data set to show discrete data\n",
        "twodice = np.ones(1000)\n",
        "for i in range(1000):\n",
        "  twodice[i] = roll() + roll()\n",
        "plt.hist(twodice)"
      ],
      "metadata": {
        "colab": {
          "base_uri": "https://localhost:8080/",
          "height": 485
        },
        "id": "ytHs3nwn7-FP",
        "outputId": "1584b429-6879-4a82-d2c4-19015daaa188"
      },
      "execution_count": null,
      "outputs": [
        {
          "output_type": "execute_result",
          "data": {
            "text/plain": [
              "(array([ 27.,  71.,  84.,  96., 123., 185., 151.,  97.,  88.,  78.]),\n",
              " array([ 2.,  3.,  4.,  5.,  6.,  7.,  8.,  9., 10., 11., 12.]),\n",
              " <BarContainer object of 10 artists>)"
            ]
          },
          "metadata": {},
          "execution_count": 15
        },
        {
          "output_type": "display_data",
          "data": {
            "text/plain": [
              "<Figure size 640x480 with 1 Axes>"
            ],
            "image/png": "[encoded data removed]"
          },
          "metadata": {}
        }
      ]
    },
    {
      "cell_type": "markdown",
      "source": [
        "This histogram shows a *discrete random variable.* There are only so many options (11 in fact) when rolling two dice, which is what makes it discrete. As we can see, the data is roughly normally distributed."
      ],
      "metadata": {
        "id": "7gHW3vwVnZ5y"
      }
    },
    {
      "cell_type": "markdown",
      "source": [
        "#2.2.4. Continues Random Variables\n"
      ],
      "metadata": {
        "id": "5jWXY9Qy7-V9"
      }
    },
    {
      "cell_type": "markdown",
      "source": [
        "**Continuous Random Variable:** A random variable $X$ is continuous if possible values comprise either a single interval on the number line or a union of disjoint intervals.\n",
        "\n",
        "**Expected Values and Variances:** The expected/mean value of a continuous random variable $X$ with pdf $f(x)$ is $ \\mu_{x}=E(X)=\\int_{-\\infty}^{\\infty}x*f(x)dx$ and the variance is $\\sigma_{X}^{2}=V(X)=\\int_{-\\infty}^{\\infty}(x-\\mu)^2*f(x)dx=E[(X-\\mu)^2]$\n",
        "\n",
        "**The Normal Distribution:** A continuous random variable $X$ is said to have a normal distribution with parameters $\\mu$ and $\\sigma$ where $-\\infty < \\mu < \\infty$ and $0<\\sigma$, if the pdf of $X$ is $f(x;\\mu ,\\sigma)=\\frac{1}{\\sqrt{2\\pi \\sigma}}e^{\\frac{-(x-\\mu)^2}{2\\sigma^2}}dx$"
      ],
      "metadata": {
        "id": "iR1lmgq2DUbc"
      }
    },
    {
      "cell_type": "code",
      "source": [
        "\n",
        "values = np.arange(0,60, 0.1)\n",
        "\n",
        "mean = statistics.mean(values)\n",
        "sd = statistics.stdev(values)\n",
        "\n",
        "plt.plot(values, norm.pdf(values, mean, sd))\n",
        "plt.show()"
      ],
      "metadata": {
        "colab": {
          "base_uri": "https://localhost:8080/",
          "height": 430
        },
        "id": "6XNKBQSxqt5y",
        "outputId": "5fee2a78-7ceb-4949-a7f4-f5e1718aad61"
      },
      "execution_count": null,
      "outputs": [
        {
          "output_type": "display_data",
          "data": {
            "text/plain": [
              "<Figure size 640x480 with 1 Axes>"
            ],
            "image/png": "[encoded data removed]"
          },
          "metadata": {}
        }
      ]
    },
    {
      "cell_type": "markdown",
      "source": [
        "A *continuous* random variable will have a similar shape to a discrete one, but instead of finite options for each outcome, there are infinite ones, meaning the graph becomes smooth."
      ],
      "metadata": {
        "id": "4L_RXFw5s9uA"
      }
    }
  ]
}