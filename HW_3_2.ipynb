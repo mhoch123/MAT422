{
  "nbformat": 4,
  "nbformat_minor": 0,
  "metadata": {
    "colab": {
      "provenance": [],
      "include_colab_link": true
    },
    "kernelspec": {
      "name": "python3",
      "display_name": "Python 3"
    },
    "language_info": {
      "name": "python"
    }
  },
  "cells": [
    {
      "cell_type": "markdown",
      "metadata": {
        "id": "view-in-github",
        "colab_type": "text"
      },
      "source": [
        "<a href=\"https://colab.research.google.com/github/mhoch123/MAT422/blob/main/HW_3_2.ipynb\" target=\"_parent\"><img src=\"https://colab.research.google.com/assets/colab-badge.svg\" alt=\"Open In Colab\"/></a>"
      ]
    },
    {
      "cell_type": "markdown",
      "source": [
        "#Homework 3.2\n",
        "Authors: Megan Hoch and Bronwyn Curnow"
      ],
      "metadata": {
        "id": "zVTK9Yt_Qy00"
      }
    },
    {
      "cell_type": "markdown",
      "source": [
        "#3.2.1. Limits and continuity"
      ],
      "metadata": {
        "id": "khaCjV9BQ23p"
      }
    },
    {
      "cell_type": "markdown",
      "source": [
        "**Limits of a Function:** Let $f: \\textbf{D} \\rightarrow \\mathbb{R}$ be a real-valued function on $\\textbf{D} \\subseteq \\mathbb{R}^{d}$. The $f$ is said to have a limit $\\textbf{L} \\in \\mathbb{R}$ as $\\textbf{x}$ approaches $\\textbf{a}$ if: for any $\\epsilon >0$, there exists a $\\delta >0$ such that $|f(\\textbf{x})-\\textbf{L}|<\\epsilon$ for all $\\textbf{x}\\in \\textbf{D}\\cap \\textbf{B}_{\\delta}(\\textbf{a}) \\ {\\textbf{a}}$. which can be written as: $\\lim_{x \\to\\ a} f(\\textbf{x})=\\textbf{L}$\n",
        "\n",
        "**Continuous Function:** Let $f: \\textbf{D} \\rightarrow \\mathbb{R}$ be a real-valued function on $\\textbf{D} \\subseteq \\mathbb{R}^{d}$. The $f$ is said to be continuous at $\\textbf{a} \\in \\textbf{D}$:  $ \\lim_{x \\to\\ a} f(\\textbf{x})=f(\\textbf{a}) $"
      ],
      "metadata": {
        "id": "mtTwMSsiGcjZ"
      }
    },
    {
      "cell_type": "code",
      "execution_count": null,
      "metadata": {
        "colab": {
          "base_uri": "https://localhost:8080/"
        },
        "id": "92jqYs7gQfrH",
        "outputId": "8e5ba68b-a9de-46df-b5c5-a05d6caaee4e"
      },
      "outputs": [
        {
          "output_type": "stream",
          "name": "stdout",
          "text": [
            "The limit of x^2 as x approaches 3 is: 9\n",
            "The limit of 1/x as x approaches 0 is: oo\n"
          ]
        }
      ],
      "source": [
        "import sympy as sp\n",
        "import math\n",
        "\n",
        "x = sp.Symbol('x')\n",
        "y1 = x**2\n",
        "lim = sp.limit(y1, x,3)\n",
        "print('The limit of x^2 as x approaches 3 is:', lim)\n",
        "y2 = 1/x\n",
        "lim2 = sp.limit(y2,x,0)\n",
        "print('The limit of 1/x as x approaches 0 is:', lim2)"
      ]
    },
    {
      "cell_type": "markdown",
      "source": [
        "#3.2.2. Derivatives"
      ],
      "metadata": {
        "id": "7CDyZcZCQ4EO"
      }
    },
    {
      "cell_type": "markdown",
      "source": [
        "**Derivative:** Let $f: \\textbf{D} \\rightarrow \\mathbb{R}$ where $\\textbf{D} \\subseteq \\mathbb{R}$ and let $x_{0} \\in \\textbf{D}$ be an interior point of $\\textbf{D}$. The derivative of $f$ at $x_{0}$ is: $f'(x_{0})=\\frac{d f(x_{0})}{dx}=\\lim_{h \\to\\ 0} \\frac{f(x_{0}+h)-f(x_{0})}{h}$, provided the limit exists\n",
        "\n",
        "**Partial Derivative:** Let $f: \\textbf{D} \\rightarrow \\mathbb{R}$ where $\\textbf{D} \\subseteq \\mathbb{R}^{d}$ and $x_{0} \\in \\textbf{D}$ be an interior point of $\\textbf{D}$. The partial derivative of $f$ at $x_{0}$ with respect to $x_{i}$ is: $\\frac{\\partial f(x_{0})}{\\partial x_{i}} = \\lim_{h \\to\\ 0} \\frac{f(x_{0}+he_{i})-f(x_{0})}{h}$"
      ],
      "metadata": {
        "id": "5IcbwPM7KHgz"
      }
    },
    {
      "cell_type": "code",
      "source": [
        "print('Regular Derivatives')\n",
        "print(f'The derivative of {y1} is: {y1.diff(x)}')\n",
        "print(f'The derivative of {y2} is: {y2.diff(x)}')\n",
        "print('\\nPartial Derivatives')\n",
        "x2, y = sp.symbols('x y')\n",
        "fxy = x2**2 + sp.cos(y) + 2*x2*y\n",
        "print(f'The partial derivative of {fxy} wrt x2 is: {sp.diff(fxy,x2)}')\n",
        "print(f'The partial derivative of {fxy} wrt y is: {sp.diff(fxy,y)}')"
      ],
      "metadata": {
        "colab": {
          "base_uri": "https://localhost:8080/"
        },
        "id": "qMf5gAvjQ6RY",
        "outputId": "9e1d8af7-bf80-4456-94c6-7d5ae874a40d"
      },
      "execution_count": null,
      "outputs": [
        {
          "output_type": "stream",
          "name": "stdout",
          "text": [
            "Regular Derivatives\n",
            "The derivative of x**2 is: 2*x\n",
            "The derivative of 1/x is: -1/x**2\n",
            "\n",
            "Partial Derivatives\n",
            "The partial derivative of x**2 + 2*x*y + cos(y) wrt x2 is: 2*x + 2*y\n",
            "The partial derivative of x**2 + 2*x*y + cos(y) wrt y is: 2*x - sin(y)\n"
          ]
        }
      ]
    },
    {
      "cell_type": "markdown",
      "source": [
        "#3.2.3. Taylor’s theorem"
      ],
      "metadata": {
        "id": "z8eIydaAQ6lJ"
      }
    },
    {
      "cell_type": "markdown",
      "source": [
        "**Taylor:** Let $f: \\textbf{D} \\rightarrow \\mathbb{R}$ where $\\textbf{D} \\subseteq \\mathbb{R}$. Suppose $f$ has a $m$ times continuous derivative on $[a,b]$. Then $f(b)=f(a)+(b-a)f'(a)+\\frac{1}{2}(b-a)^{2}f''(a)+\\ldots +\\frac{(b-a)^{m-1}}{(m-1)!}f^{(m-1)}(a)+R_{m}$, where $R_{m}=\\frac{(b-a)^m}{m!}f^{(m)}(a+\\theta(b-a))$ for some $0<\\theta <1$. In particular, for $m=2$, we have: $f(b)=f(a)+(b-a)f'(a)+ \\frac{1}{2}(b-a)^{2}f''(\\xi)$ for some $a<\\xi<b$\n"
      ],
      "metadata": {
        "id": "DG3iVCVNNGsi"
      }
    },
    {
      "cell_type": "code",
      "source": [
        "def expTaylorSeries(eval_point,accuracy):\n",
        "  e = 0\n",
        "  x = eval_point\n",
        "  for i in range(accuracy):\n",
        "    e += x**i/math.factorial(i)\n",
        "  print(e)\n",
        "expTaylorSeries(2,1)\n",
        "expTaylorSeries(2,5)\n",
        "expTaylorSeries(2,10)\n",
        "print(math.exp(2))"
      ],
      "metadata": {
        "id": "-6CimPjpQ9-T",
        "colab": {
          "base_uri": "https://localhost:8080/"
        },
        "outputId": "29221dad-0695-40e1-894c-49cb4a82b0df"
      },
      "execution_count": null,
      "outputs": [
        {
          "output_type": "stream",
          "name": "stdout",
          "text": [
            "1.0\n",
            "7.0\n",
            "7.3887125220458545\n",
            "7.38905609893065\n"
          ]
        }
      ]
    },
    {
      "cell_type": "markdown",
      "source": [
        "Here we see a Taylor Expansion of the function e^x around the point x=2 at three different accuracy levels, and the actual numberical value. The final approximation, with 10 terms, is quite close to the expected value!"
      ],
      "metadata": {
        "id": "3V_EaV2jFlEI"
      }
    }
  ]
}